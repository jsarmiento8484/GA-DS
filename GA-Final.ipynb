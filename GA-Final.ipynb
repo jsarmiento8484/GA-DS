{
 "cells": [
  {
   "cell_type": "code",
   "execution_count": 59,
   "metadata": {},
   "outputs": [],
   "source": [
    "import pandas as pd\n",
    "import numpy as np\n",
    "import seaborn as sns\n",
    "import matplotlib.pyplot as plt\n",
    "%matplotlib inline"
   ]
  },
  {
   "cell_type": "code",
   "execution_count": 2,
   "metadata": {},
   "outputs": [],
   "source": [
    "df_16 = pd.read_csv('./mental-health-in-tech-2016/mental-heath-in-tech-2016_20161114.csv')"
   ]
  },
  {
   "cell_type": "code",
   "execution_count": 3,
   "metadata": {},
   "outputs": [
    {
     "data": {
      "text/html": [
       "<div>\n",
       "<style scoped>\n",
       "    .dataframe tbody tr th:only-of-type {\n",
       "        vertical-align: middle;\n",
       "    }\n",
       "\n",
       "    .dataframe tbody tr th {\n",
       "        vertical-align: top;\n",
       "    }\n",
       "\n",
       "    .dataframe thead th {\n",
       "        text-align: right;\n",
       "    }\n",
       "</style>\n",
       "<table border=\"1\" class=\"dataframe\">\n",
       "  <thead>\n",
       "    <tr style=\"text-align: right;\">\n",
       "      <th></th>\n",
       "      <th>Are you self-employed?</th>\n",
       "      <th>How many employees does your company or organization have?</th>\n",
       "      <th>Is your employer primarily a tech company/organization?</th>\n",
       "      <th>Is your primary role within your company related to tech/IT?</th>\n",
       "      <th>Does your employer provide mental health benefits as part of healthcare coverage?</th>\n",
       "      <th>Do you know the options for mental health care available under your employer-provided coverage?</th>\n",
       "      <th>Has your employer ever formally discussed mental health (for example, as part of a wellness campaign or other official communication)?</th>\n",
       "      <th>Does your employer offer resources to learn more about mental health concerns and options for seeking help?</th>\n",
       "      <th>Is your anonymity protected if you choose to take advantage of mental health or substance abuse treatment resources provided by your employer?</th>\n",
       "      <th>If a mental health issue prompted you to request a medical leave from work, asking for that leave would be:</th>\n",
       "      <th>...</th>\n",
       "      <th>If you have a mental health issue, do you feel that it interferes with your work when being treated effectively?</th>\n",
       "      <th>If you have a mental health issue, do you feel that it interferes with your work when NOT being treated effectively?</th>\n",
       "      <th>What is your age?</th>\n",
       "      <th>What is your gender?</th>\n",
       "      <th>What country do you live in?</th>\n",
       "      <th>What US state or territory do you live in?</th>\n",
       "      <th>What country do you work in?</th>\n",
       "      <th>What US state or territory do you work in?</th>\n",
       "      <th>Which of the following best describes your work position?</th>\n",
       "      <th>Do you work remotely?</th>\n",
       "    </tr>\n",
       "  </thead>\n",
       "  <tbody>\n",
       "    <tr>\n",
       "      <th>0</th>\n",
       "      <td>0</td>\n",
       "      <td>26-100</td>\n",
       "      <td>1.0</td>\n",
       "      <td>NaN</td>\n",
       "      <td>Not eligible for coverage / N/A</td>\n",
       "      <td>NaN</td>\n",
       "      <td>No</td>\n",
       "      <td>No</td>\n",
       "      <td>I don't know</td>\n",
       "      <td>Very easy</td>\n",
       "      <td>...</td>\n",
       "      <td>Not applicable to me</td>\n",
       "      <td>Not applicable to me</td>\n",
       "      <td>39</td>\n",
       "      <td>Male</td>\n",
       "      <td>United Kingdom</td>\n",
       "      <td>NaN</td>\n",
       "      <td>United Kingdom</td>\n",
       "      <td>NaN</td>\n",
       "      <td>Back-end Developer</td>\n",
       "      <td>Sometimes</td>\n",
       "    </tr>\n",
       "  </tbody>\n",
       "</table>\n",
       "<p>1 rows × 63 columns</p>\n",
       "</div>"
      ],
      "text/plain": [
       "   Are you self-employed?  \\\n",
       "0                       0   \n",
       "\n",
       "  How many employees does your company or organization have?  \\\n",
       "0                                             26-100           \n",
       "\n",
       "   Is your employer primarily a tech company/organization?  \\\n",
       "0                                                1.0         \n",
       "\n",
       "   Is your primary role within your company related to tech/IT?  \\\n",
       "0                                                NaN              \n",
       "\n",
       "  Does your employer provide mental health benefits as part of healthcare coverage?  \\\n",
       "0                    Not eligible for coverage / N/A                                  \n",
       "\n",
       "  Do you know the options for mental health care available under your employer-provided coverage?  \\\n",
       "0                                                NaN                                                \n",
       "\n",
       "  Has your employer ever formally discussed mental health (for example, as part of a wellness campaign or other official communication)?  \\\n",
       "0                                                 No                                                                                       \n",
       "\n",
       "  Does your employer offer resources to learn more about mental health concerns and options for seeking help?  \\\n",
       "0                                                 No                                                            \n",
       "\n",
       "  Is your anonymity protected if you choose to take advantage of mental health or substance abuse treatment resources provided by your employer?  \\\n",
       "0                                       I don't know                                                                                               \n",
       "\n",
       "  If a mental health issue prompted you to request a medical leave from work, asking for that leave would be:  \\\n",
       "0                                          Very easy                                                            \n",
       "\n",
       "           ...           \\\n",
       "0          ...            \n",
       "\n",
       "  If you have a mental health issue, do you feel that it interferes with your work when being treated effectively?  \\\n",
       "0                               Not applicable to me                                                                 \n",
       "\n",
       "  If you have a mental health issue, do you feel that it interferes with your work when NOT being treated effectively?  \\\n",
       "0                               Not applicable to me                                                                     \n",
       "\n",
       "  What is your age? What is your gender? What country do you live in?  \\\n",
       "0                39                 Male               United Kingdom   \n",
       "\n",
       "  What US state or territory do you live in?  What country do you work in?  \\\n",
       "0                                        NaN                United Kingdom   \n",
       "\n",
       "  What US state or territory do you work in?  \\\n",
       "0                                        NaN   \n",
       "\n",
       "  Which of the following best describes your work position?  \\\n",
       "0                                 Back-end Developer          \n",
       "\n",
       "  Do you work remotely?  \n",
       "0             Sometimes  \n",
       "\n",
       "[1 rows x 63 columns]"
      ]
     },
     "execution_count": 3,
     "metadata": {},
     "output_type": "execute_result"
    }
   ],
   "source": [
    "# Checking Variables and Inputs\n",
    "# df_16 will be the RAW data\n",
    "df_16.head(1)"
   ]
  },
  {
   "cell_type": "code",
   "execution_count": 4,
   "metadata": {},
   "outputs": [],
   "source": [
    "# Making a duplicate DataFrame\n",
    "df_check = pd.DataFrame(df_16)"
   ]
  },
  {
   "cell_type": "code",
   "execution_count": 7,
   "metadata": {},
   "outputs": [
    {
     "data": {
      "text/plain": [
       "Are you self-employed?                                                                                                                                                                 0\n",
       "How many employees does your company or organization have?                                                                                                                           287\n",
       "Is your employer primarily a tech company/organization?                                                                                                                              287\n",
       "Is your primary role within your company related to tech/IT?                                                                                                                        1170\n",
       "Does your employer provide mental health benefits as part of healthcare coverage?                                                                                                    287\n",
       "Do you know the options for mental health care available under your employer-provided coverage?                                                                                      420\n",
       "Has your employer ever formally discussed mental health (for example, as part of a wellness campaign or other official communication)?                                               287\n",
       "Does your employer offer resources to learn more about mental health concerns and options for seeking help?                                                                          287\n",
       "Is your anonymity protected if you choose to take advantage of mental health or substance abuse treatment resources provided by your employer?                                       287\n",
       "If a mental health issue prompted you to request a medical leave from work, asking for that leave would be:                                                                          287\n",
       "Do you think that discussing a mental health disorder with your employer would have negative consequences?                                                                           287\n",
       "Do you think that discussing a physical health issue with your employer would have negative consequences?                                                                            287\n",
       "Would you feel comfortable discussing a mental health disorder with your coworkers?                                                                                                  287\n",
       "Would you feel comfortable discussing a mental health disorder with your direct supervisor(s)?                                                                                       287\n",
       "Do you feel that your employer takes mental health as seriously as physical health?                                                                                                  287\n",
       "Have you heard of or observed negative consequences for co-workers who have been open about mental health issues in your workplace?                                                  287\n",
       "Do you have medical coverage (private insurance or state-provided) which includes treatment of  mental health issues?                                                               1146\n",
       "Do you know local or online resources to seek help for a mental health disorder?                                                                                                    1146\n",
       "If you have been diagnosed or treated for a mental health disorder, do you ever reveal this to clients or business contacts?                                                        1146\n",
       "If you have revealed a mental health issue to a client or business contact, do you believe this has impacted you negatively?                                                        1289\n",
       "If you have been diagnosed or treated for a mental health disorder, do you ever reveal this to coworkers or employees?                                                              1146\n",
       "If you have revealed a mental health issue to a coworker or employee, do you believe this has impacted you negatively?                                                              1146\n",
       "Do you believe your productivity is ever affected by a mental health issue?                                                                                                         1146\n",
       "If yes, what percentage of your work time (time performing primary or secondary job functions) is affected by a mental health issue?                                                1229\n",
       "Do you have previous employers?                                                                                                                                                        0\n",
       "Have your previous employers provided mental health benefits?                                                                                                                        169\n",
       "Were you aware of the options for mental health care provided by your previous employers?                                                                                            169\n",
       "Did your previous employers ever formally discuss mental health (as part of a wellness campaign or other official communication)?                                                    169\n",
       "Did your previous employers provide resources to learn more about mental health issues and how to seek help?                                                                         169\n",
       "Was your anonymity protected if you chose to take advantage of mental health or substance abuse treatment resources with previous employers?                                         169\n",
       "                                                                                                                                                                                    ... \n",
       "Would you have been willing to discuss a mental health issue with your direct supervisor(s)?                                                                                         169\n",
       "Did you feel that your previous employers took mental health as seriously as physical health?                                                                                        169\n",
       "Did you hear of or observe negative consequences for co-workers with mental health issues in your previous workplaces?                                                               169\n",
       "Would you be willing to bring up a physical health issue with a potential employer in an interview?                                                                                    0\n",
       "Why or why not?                                                                                                                                                                      338\n",
       "Would you bring up a mental health issue with a potential employer in an interview?                                                                                                    0\n",
       "Why or why not?.1                                                                                                                                                                    307\n",
       "Do you feel that being identified as a person with a mental health issue would hurt your career?                                                                                       0\n",
       "Do you think that team members/co-workers would view you more negatively if they knew you suffered from a mental health issue?                                                         0\n",
       "How willing would you be to share with friends and family that you have a mental illness?                                                                                              0\n",
       "Have you observed or experienced an unsupportive or badly handled response to a mental health issue in your current or previous workplace?                                            89\n",
       "Have your observations of how another individual who discussed a mental health disorder made you less likely to reveal a mental health issue yourself in your current workplace?     776\n",
       "Do you have a family history of mental illness?                                                                                                                                        0\n",
       "Have you had a mental health disorder in the past?                                                                                                                                     0\n",
       "Do you currently have a mental health disorder?                                                                                                                                        0\n",
       "If yes, what condition(s) have you been diagnosed with?                                                                                                                              865\n",
       "If maybe, what condition(s) do you believe you have?                                                                                                                                1111\n",
       "Have you been diagnosed with a mental health condition by a medical professional?                                                                                                      0\n",
       "If so, what condition(s) were you diagnosed with?                                                                                                                                    722\n",
       "Have you ever sought treatment for a mental health issue from a mental health professional?                                                                                            0\n",
       "If you have a mental health issue, do you feel that it interferes with your work when being treated effectively?                                                                       0\n",
       "If you have a mental health issue, do you feel that it interferes with your work when NOT being treated effectively?                                                                   0\n",
       "What is your age?                                                                                                                                                                      0\n",
       "What is your gender?                                                                                                                                                                   3\n",
       "What country do you live in?                                                                                                                                                           0\n",
       "What US state or territory do you live in?                                                                                                                                           593\n",
       "What country do you work in?                                                                                                                                                           0\n",
       "What US state or territory do you work in?                                                                                                                                           582\n",
       "Which of the following best describes your work position?                                                                                                                              0\n",
       "Do you work remotely?                                                                                                                                                                  0\n",
       "Length: 63, dtype: int64"
      ]
     },
     "execution_count": 7,
     "metadata": {},
     "output_type": "execute_result"
    }
   ],
   "source": [
    "df_check.isnull().sum()"
   ]
  },
  {
   "cell_type": "code",
   "execution_count": 9,
   "metadata": {},
   "outputs": [
    {
     "data": {
      "text/plain": [
       "Index(['Are you self-employed?',\n",
       "       'How many employees does your company or organization have?',\n",
       "       'Is your employer primarily a tech company/organization?',\n",
       "       'Is your primary role within your company related to tech/IT?',\n",
       "       'Does your employer provide mental health benefits as part of healthcare coverage?',\n",
       "       'Do you know the options for mental health care available under your employer-provided coverage?',\n",
       "       'Has your employer ever formally discussed mental health (for example, as part of a wellness campaign or other official communication)?',\n",
       "       'Does your employer offer resources to learn more about mental health concerns and options for seeking help?',\n",
       "       'Is your anonymity protected if you choose to take advantage of mental health or substance abuse treatment resources provided by your employer?',\n",
       "       'If a mental health issue prompted you to request a medical leave from work, asking for that leave would be:',\n",
       "       'Do you think that discussing a mental health disorder with your employer would have negative consequences?',\n",
       "       'Do you think that discussing a physical health issue with your employer would have negative consequences?',\n",
       "       'Would you feel comfortable discussing a mental health disorder with your coworkers?',\n",
       "       'Would you feel comfortable discussing a mental health disorder with your direct supervisor(s)?',\n",
       "       'Do you feel that your employer takes mental health as seriously as physical health?',\n",
       "       'Have you heard of or observed negative consequences for co-workers who have been open about mental health issues in your workplace?',\n",
       "       'Do you have medical coverage (private insurance or state-provided) which includes treatment of  mental health issues?',\n",
       "       'Do you know local or online resources to seek help for a mental health disorder?',\n",
       "       'If you have been diagnosed or treated for a mental health disorder, do you ever reveal this to clients or business contacts?',\n",
       "       'If you have revealed a mental health issue to a client or business contact, do you believe this has impacted you negatively?',\n",
       "       'If you have been diagnosed or treated for a mental health disorder, do you ever reveal this to coworkers or employees?',\n",
       "       'If you have revealed a mental health issue to a coworker or employee, do you believe this has impacted you negatively?',\n",
       "       'Do you believe your productivity is ever affected by a mental health issue?',\n",
       "       'If yes, what percentage of your work time (time performing primary or secondary job functions) is affected by a mental health issue?',\n",
       "       'Do you have previous employers?',\n",
       "       'Have your previous employers provided mental health benefits?',\n",
       "       'Were you aware of the options for mental health care provided by your previous employers?',\n",
       "       'Did your previous employers ever formally discuss mental health (as part of a wellness campaign or other official communication)?',\n",
       "       'Did your previous employers provide resources to learn more about mental health issues and how to seek help?',\n",
       "       'Was your anonymity protected if you chose to take advantage of mental health or substance abuse treatment resources with previous employers?',\n",
       "       'Do you think that discussing a mental health disorder with previous employers would have negative consequences?',\n",
       "       'Do you think that discussing a physical health issue with previous employers would have negative consequences?',\n",
       "       'Would you have been willing to discuss a mental health issue with your previous co-workers?',\n",
       "       'Would you have been willing to discuss a mental health issue with your direct supervisor(s)?',\n",
       "       'Did you feel that your previous employers took mental health as seriously as physical health?',\n",
       "       'Did you hear of or observe negative consequences for co-workers with mental health issues in your previous workplaces?',\n",
       "       'Would you be willing to bring up a physical health issue with a potential employer in an interview?',\n",
       "       'Why or why not?',\n",
       "       'Would you bring up a mental health issue with a potential employer in an interview?',\n",
       "       'Why or why not?.1',\n",
       "       'Do you feel that being identified as a person with a mental health issue would hurt your career?',\n",
       "       'Do you think that team members/co-workers would view you more negatively if they knew you suffered from a mental health issue?',\n",
       "       'How willing would you be to share with friends and family that you have a mental illness?',\n",
       "       'Have you observed or experienced an unsupportive or badly handled response to a mental health issue in your current or previous workplace?',\n",
       "       'Have your observations of how another individual who discussed a mental health disorder made you less likely to reveal a mental health issue yourself in your current workplace?',\n",
       "       'Do you have a family history of mental illness?',\n",
       "       'Have you had a mental health disorder in the past?',\n",
       "       'Do you currently have a mental health disorder?',\n",
       "       'If yes, what condition(s) have you been diagnosed with?',\n",
       "       'If maybe, what condition(s) do you believe you have?',\n",
       "       'Have you been diagnosed with a mental health condition by a medical professional?',\n",
       "       'If so, what condition(s) were you diagnosed with?',\n",
       "       'Have you ever sought treatment for a mental health issue from a mental health professional?',\n",
       "       'If you have a mental health issue, do you feel that it interferes with your work when being treated effectively?',\n",
       "       'If you have a mental health issue, do you feel that it interferes with your work when NOT being treated effectively?',\n",
       "       'What is your age?', 'What is your gender?',\n",
       "       'What country do you live in?',\n",
       "       'What US state or territory do you live in?',\n",
       "       'What country do you work in?',\n",
       "       'What US state or territory do you work in?',\n",
       "       'Which of the following best describes your work position?',\n",
       "       'Do you work remotely?'],\n",
       "      dtype='object')"
      ]
     },
     "execution_count": 9,
     "metadata": {},
     "output_type": "execute_result"
    }
   ],
   "source": [
    "df_check.columns"
   ]
  },
  {
   "cell_type": "code",
   "execution_count": 10,
   "metadata": {},
   "outputs": [],
   "source": [
    "#Changing Names \n",
    "df_check.rename(columns={\n",
    "\n",
    "#Job\n",
    "        'Are you self-employed?': 'selfemployed',\n",
    "       'How many employees does your company or organization have?': 'num_employees',\n",
    "       'Is your employer primarily a tech company/organization?': 'tech_employer',\n",
    "       'Is your primary role within your company related to tech/IT?': 'tech_role', ### Note: string\n",
    "\n",
    "#Work+MH\n",
    "       'Does your employer provide mental health benefits as part of healthcare coverage?': 'benefits', #\n",
    "       'Do you know the options for mental health care available under your employer-provided coverage?': 'know_benefits', #\n",
    "       'Has your employer ever formally discussed mental health (for example, as part of a wellness campaign or other official communication)?' : 'disc_mh',#\n",
    "       'Does your employer offer resources to learn more about mental health concerns and options for seeking help?': 'mh_edu',#\n",
    "       'Is your anonymity protected if you choose to take advantage of mental health or substance abuse treatment resources provided by your employer?': 'anon', #\n",
    "       'If a mental health issue prompted you to request a medical leave from work, asking for that leave would be:' : 'ease_askleave',\n",
    "       'Do you think that discussing a mental health disorder with your employer would have negative consequences?' : 'disc_mhstigma', #\n",
    "       'Do you think that discussing a physical health issue with your employer would have negative consequences?' : 'disc_phstigma',#\n",
    "       'Would you feel comfortable discussing a mental health disorder with your coworkers?' : 'disc_coworkers', #\n",
    "       'Would you feel comfortable discussing a mental health disorder with your direct supervisor(s)?': 'disc_superv', #\n",
    "       'Do you feel that your employer takes mental health as seriously as physical health?': 'employer_mhph',    #\n",
    "       'Have you heard of or observed negative consequences for co-workers who have been open about mental health issues in your workplace?': 'obs_coworkers', #\n",
    "        'Do you have medical coverage (private insurance or state-provided) which includes treatment of  mental health issues?': 'mh_coverage',\n",
    "#Reveal\n",
    "       'Do you know local or online resources to seek help for a mental health disorder?': 'know_other_resources',\n",
    "       'If you have been diagnosed or treated for a mental health disorder, do you ever reveal this to clients or business contacts?': 'reveal_clients',\n",
    "       'If you have revealed a mental health issue to a client or business contact, do you believe this has impacted you negatively?': 'reveal_clients_impact',\n",
    "       'If you have been diagnosed or treated for a mental health disorder, do you ever reveal this to coworkers or employees?': 'reveal_work',\n",
    "       'If you have revealed a mental health issue to a coworker or employee, do you believe this has impacted you negatively?': 'reveal_work_impact',\n",
    "\n",
    "#Productivity ---- DECISION TREE\n",
    "       'Do you believe your productivity is ever affected by a mental health issue?': 'pdy',\n",
    "       'If yes, what percentage of your work time (time performing primary or secondary job functions) is affected by a mental health issue?': 'pdy_pct',\n",
    "\n",
    "#Previous Employers 'prv' ## 11 or the 11 are asked in regards to current employer\n",
    "       'Do you have previous employers?' : 'prv_emp',\n",
    "       'Have your previous employers provided mental health benefits?' : 'prv_benefits',\n",
    "       'Were you aware of the options for mental health care provided by your previous employers?' : 'prv_know_benefits',\n",
    "       'Did your previous employers ever formally discuss mental health (as part of a wellness campaign or other official communication)?': 'prv_disc_mh',\n",
    "       'Did your previous employers provide resources to learn more about mental health issues and how to seek help?': 'prv_mh_edu' ,\n",
    "       'Was your anonymity protected if you chose to take advantage of mental health or substance abuse treatment resources with previous employers?': 'prv_anon',            \n",
    "       'Do you think that discussing a mental health disorder with previous employers would have negative consequences?': 'prv_disc_mhstigma',\n",
    "       'Do you think that discussing a physical health issue with previous employers would have negative consequences?': 'prv_disc_phstigma',\n",
    "       'Would you have been willing to discuss a mental health issue with your previous co-workers?': 'prv_disc_coworkers',\n",
    "       'Would you have been willing to discuss a mental health issue with your direct supervisor(s)?': 'prv_disc_superv',\n",
    "       'Did you feel that your previous employers took mental health as seriously as physical health?': 'prv_employer_mhph',\n",
    "       'Did you hear of or observe negative consequences for co-workers with mental health issues in your previous workplaces?': 'prv_obs_coworkers',\n",
    "\n",
    "#MH and Sharing\n",
    "       'Would you be willing to bring up a physical health issue with a potential employer in an interview?': 'ph_int',\n",
    "       'Why or why not?': 'ph_int_why',\n",
    "       'Would you bring up a mental health issue with a potential employer in an interview?': 'mh_int',\n",
    "       'Why or why not?.1': 'mh_int_why',\n",
    "       'Do you feel that being identified as a person with a mental health issue would hurt your career?': 'mh_hurt_career',\n",
    "       'Do you think that team members/co-workers would view you more negatively if they knew you suffered from a mental health issue?': 'team_mhstigma',\n",
    "       'How willing would you be to share with friends and family that you have a mental illness?': 'share',\n",
    "       'Have you observed or experienced an unsupportive or badly handled response to a mental health issue in your current or previous workplace?' : 'obs_bad_rxn',       \n",
    "       'Have your observations of how another individual who discussed a mental health disorder made you less likely to reveal a mental health issue yourself in your current workplace?': 'rxn_coworker',\n",
    "\n",
    "#History\n",
    "       'Do you have a family history of mental illness?': 'mh_fam_history',                   \n",
    "       'Have you had a mental health disorder in the past?': 'mh_history',\n",
    "\n",
    "#MH Disorder --- DECISION TREE\n",
    "       'Do you currently have a mental health disorder?': 'mhnow',      \n",
    "       'If yes, what condition(s) have you been diagnosed with?': 'mhnow_cond',\n",
    "       'If maybe, what condition(s) do you believe you have?': 'mhnow_selfdiag',\n",
    "\n",
    "#MH Professional Diagnosis --- DECISION TREE\n",
    "       'Have you been diagnosed with a mental health condition by a medical professional?': 'diag',\n",
    "       'If so, what condition(s) were you diagnosed with?': 'diag_cond',\n",
    "    \n",
    "#Treatment\n",
    "       'Have you ever sought treatment for a mental health issue from a mental health professional?': 'treat',\n",
    "       'If you have a mental health issue, do you feel that it interferes with your work when being treated effectively?' : 'treat_effective',\n",
    "       'If you have a mental health issue, do you feel that it interferes with your work when NOT being treated effectively?': 'treat_noteffective',\n",
    "\n",
    "#Work/Demographics\n",
    "        'What is your age?': 'age',\n",
    "        'What is your gender?': 'gender',\n",
    "       'What country do you live in?': 'country',\n",
    "       'What US state or territory do you live in?': 'state',\n",
    "       'What country do you work in?': 'country_work',\n",
    "       'What US state or territory do you work in?': 'state_work',\n",
    "       'Which of the following best describes your work position?': 'work',\n",
    "       'Do you work remotely?': 'remote'}, inplace=True)"
   ]
  },
  {
   "cell_type": "code",
   "execution_count": 11,
   "metadata": {},
   "outputs": [
    {
     "data": {
      "text/plain": [
       "Index(['selfemployed', 'num_employees', 'tech_employer', 'tech_role',\n",
       "       'benefits', 'know_benefits', 'disc_mh', 'mh_edu', 'anon',\n",
       "       'ease_askleave', 'disc_mhstigma', 'disc_phstigma', 'disc_coworkers',\n",
       "       'disc_superv', 'employer_mhph', 'obs_coworkers',\n",
       "       'Do you have medical coverage (private insurance or state-provided) which includes treatment of  mental health issues?',\n",
       "       'know_other_resources', 'reveal_clients', 'reveal_clients_impact',\n",
       "       'reveal_work', 'reveal_work_impact', 'pdy', 'pdy_pct', 'prv_emp',\n",
       "       'prv_benefits', 'prv_know_benefits', 'prv_disc_mh', 'prv_mh_edu',\n",
       "       'prv_anon', 'prv_disc_mhstigma', 'prv_disc_phstigma',\n",
       "       'prv_disc_coworkers', 'prv_disc_superv', 'prv_employer_mhph',\n",
       "       'prv_obs_coworkers', 'ph_int', 'ph_int_why', 'mh_int', 'mh_int_why',\n",
       "       'mh_hurt_career', 'team_mhstigma', 'share', 'obs_bad_rxn',\n",
       "       'rxn_coworker', 'mh_fam_history', 'mh_history', 'mhnow', 'mhnow_cond',\n",
       "       'mhnow_selfdiag', 'diag', 'diag_cond', 'treat', 'treat_effective',\n",
       "       'treat_noteffective', 'age', 'gender', 'country', 'state',\n",
       "       'country_work', 'state_work', 'work', 'remote'],\n",
       "      dtype='object')"
      ]
     },
     "execution_count": 11,
     "metadata": {},
     "output_type": "execute_result"
    }
   ],
   "source": [
    "df_check.columns"
   ]
  },
  {
   "cell_type": "code",
   "execution_count": 26,
   "metadata": {},
   "outputs": [
    {
     "data": {
      "text/plain": [
       "'mh_coverage'"
      ]
     },
     "execution_count": 26,
     "metadata": {},
     "output_type": "execute_result"
    }
   ],
   "source": [
    "# Fixing Column with long name:\n",
    "df_check.rename(columns={'Do you have medical coverage (private insurance or state-provided) which includes treatment of \\xa0mental health issues?': 'mh_coverage'}, inplace=True)\n",
    "# Checking if it worked:\n",
    "df_check.iloc[:,16].name"
   ]
  },
  {
   "cell_type": "code",
   "execution_count": 28,
   "metadata": {},
   "outputs": [
    {
     "data": {
      "text/plain": [
       "Index(['selfemployed', 'num_employees', 'tech_employer', 'tech_role',\n",
       "       'benefits', 'know_benefits', 'disc_mh', 'mh_edu', 'anon',\n",
       "       'ease_askleave', 'disc_mhstigma', 'disc_phstigma', 'disc_coworkers',\n",
       "       'disc_superv', 'employer_mhph', 'obs_coworkers', 'mh_coverage',\n",
       "       'know_other_resources', 'reveal_clients', 'reveal_clients_impact',\n",
       "       'reveal_work', 'reveal_work_impact', 'pdy', 'pdy_pct', 'prv_emp',\n",
       "       'prv_benefits', 'prv_know_benefits', 'prv_disc_mh', 'prv_mh_edu',\n",
       "       'prv_anon', 'prv_disc_mhstigma', 'prv_disc_phstigma',\n",
       "       'prv_disc_coworkers', 'prv_disc_superv', 'prv_employer_mhph',\n",
       "       'prv_obs_coworkers', 'ph_int', 'ph_int_why', 'mh_int', 'mh_int_why',\n",
       "       'mh_hurt_career', 'team_mhstigma', 'share', 'obs_bad_rxn',\n",
       "       'rxn_coworker', 'mh_fam_history', 'mh_history', 'mhnow', 'mhnow_cond',\n",
       "       'mhnow_selfdiag', 'diag', 'diag_cond', 'treat', 'treat_effective',\n",
       "       'treat_noteffective', 'age', 'gender', 'country', 'state',\n",
       "       'country_work', 'state_work', 'work', 'remote'],\n",
       "      dtype='object')"
      ]
     },
     "execution_count": 28,
     "metadata": {},
     "output_type": "execute_result"
    }
   ],
   "source": [
    "# Making the dataframe naming scheme easier: 'df'\n",
    "df = pd.DataFrame(df_check)\n",
    "df.columns"
   ]
  },
  {
   "cell_type": "code",
   "execution_count": 29,
   "metadata": {},
   "outputs": [
    {
     "data": {
      "text/plain": [
       "selfemployed               int64\n",
       "num_employees             object\n",
       "tech_employer            float64\n",
       "tech_role                float64\n",
       "benefits                  object\n",
       "know_benefits             object\n",
       "disc_mh                   object\n",
       "mh_edu                    object\n",
       "anon                      object\n",
       "ease_askleave             object\n",
       "disc_mhstigma             object\n",
       "disc_phstigma             object\n",
       "disc_coworkers            object\n",
       "disc_superv               object\n",
       "employer_mhph             object\n",
       "obs_coworkers             object\n",
       "mh_coverage              float64\n",
       "know_other_resources      object\n",
       "reveal_clients            object\n",
       "reveal_clients_impact     object\n",
       "reveal_work               object\n",
       "reveal_work_impact        object\n",
       "pdy                       object\n",
       "pdy_pct                   object\n",
       "prv_emp                    int64\n",
       "prv_benefits              object\n",
       "prv_know_benefits         object\n",
       "prv_disc_mh               object\n",
       "prv_mh_edu                object\n",
       "prv_anon                  object\n",
       "                          ...   \n",
       "prv_disc_superv           object\n",
       "prv_employer_mhph         object\n",
       "prv_obs_coworkers         object\n",
       "ph_int                    object\n",
       "ph_int_why                object\n",
       "mh_int                    object\n",
       "mh_int_why                object\n",
       "mh_hurt_career            object\n",
       "team_mhstigma             object\n",
       "share                     object\n",
       "obs_bad_rxn               object\n",
       "rxn_coworker              object\n",
       "mh_fam_history            object\n",
       "mh_history                object\n",
       "mhnow                     object\n",
       "mhnow_cond                object\n",
       "mhnow_selfdiag            object\n",
       "diag                      object\n",
       "diag_cond                 object\n",
       "treat                      int64\n",
       "treat_effective           object\n",
       "treat_noteffective        object\n",
       "age                        int64\n",
       "gender                    object\n",
       "country                   object\n",
       "state                     object\n",
       "country_work              object\n",
       "state_work                object\n",
       "work                      object\n",
       "remote                    object\n",
       "Length: 63, dtype: object"
      ]
     },
     "execution_count": 29,
     "metadata": {},
     "output_type": "execute_result"
    }
   ],
   "source": [
    "df.dtypes"
   ]
  },
  {
   "cell_type": "code",
   "execution_count": 33,
   "metadata": {},
   "outputs": [],
   "source": [
    "\n",
    "\n",
    "\n",
    "#### GOING TO CLEAN SOME DATA :)"
   ]
  },
  {
   "cell_type": "code",
   "execution_count": 34,
   "metadata": {},
   "outputs": [
    {
     "data": {
      "text/plain": [
       "count     1430\n",
       "unique      70\n",
       "top       Male\n",
       "freq       610\n",
       "Name: gender, dtype: object"
      ]
     },
     "execution_count": 34,
     "metadata": {},
     "output_type": "execute_result"
    }
   ],
   "source": [
    "\n",
    "# Looking at Gender\n",
    "\n",
    "df.gender.describe()"
   ]
  },
  {
   "cell_type": "code",
   "execution_count": 35,
   "metadata": {},
   "outputs": [
    {
     "data": {
      "text/plain": [
       "Male                                                                                                                                                             610\n",
       "male                                                                                                                                                             249\n",
       "Female                                                                                                                                                           153\n",
       "female                                                                                                                                                            95\n",
       "M                                                                                                                                                                 86\n",
       "m                                                                                                                                                                 79\n",
       "F                                                                                                                                                                 38\n",
       "f                                                                                                                                                                 23\n",
       "Male                                                                                                                                                              11\n",
       "Female                                                                                                                                                             9\n",
       "non-binary                                                                                                                                                         4\n",
       "woman                                                                                                                                                              4\n",
       "man                                                                                                                                                                3\n",
       "female                                                                                                                                                             3\n",
       "Woman                                                                                                                                                              3\n",
       "Agender                                                                                                                                                            2\n",
       "Man                                                                                                                                                                2\n",
       "male                                                                                                                                                               2\n",
       "Nonbinary                                                                                                                                                          2\n",
       "Male (cis)                                                                                                                                                         2\n",
       "Male.                                                                                                                                                              1\n",
       "fm                                                                                                                                                                 1\n",
       "mtf                                                                                                                                                                1\n",
       "genderqueer                                                                                                                                                        1\n",
       "Sex is male                                                                                                                                                        1\n",
       "Cis male                                                                                                                                                           1\n",
       "genderqueer woman                                                                                                                                                  1\n",
       "Male (trans, FtM)                                                                                                                                                  1\n",
       "Female (props for making this a freeform field, though)                                                                                                            1\n",
       "female-bodied; no feelings about gender                                                                                                                            1\n",
       "                                                                                                                                                                ... \n",
       "MALE                                                                                                                                                               1\n",
       " Female                                                                                                                                                            1\n",
       "Queer                                                                                                                                                              1\n",
       "I'm a man why didn't you make this a drop down question. You should of asked sex? And I would of answered yes please. Seriously how much text can this take?       1\n",
       "Genderfluid                                                                                                                                                        1\n",
       "Other                                                                                                                                                              1\n",
       "Human                                                                                                                                                              1\n",
       "nb masculine                                                                                                                                                       1\n",
       "Androgynous                                                                                                                                                        1\n",
       "fem                                                                                                                                                                1\n",
       "cisdude                                                                                                                                                            1\n",
       "none of your business                                                                                                                                              1\n",
       "Enby                                                                                                                                                               1\n",
       "Fluid                                                                                                                                                              1\n",
       "cis man                                                                                                                                                            1\n",
       "Malr                                                                                                                                                               1\n",
       "Cis-woman                                                                                                                                                          1\n",
       "M|                                                                                                                                                                 1\n",
       "male 9:1 female, roughly                                                                                                                                           1\n",
       "I identify as female.                                                                                                                                              1\n",
       "Genderflux demi-girl                                                                                                                                               1\n",
       "Male/genderqueer                                                                                                                                                   1\n",
       "Unicorn                                                                                                                                                            1\n",
       "Other/Transfeminine                                                                                                                                                1\n",
       "Cis Male                                                                                                                                                           1\n",
       "AFAB                                                                                                                                                               1\n",
       "mail                                                                                                                                                               1\n",
       "Dude                                                                                                                                                               1\n",
       "Female or Multi-Gender Femme                                                                                                                                       1\n",
       "cis male                                                                                                                                                           1\n",
       "Name: gender, Length: 70, dtype: int64"
      ]
     },
     "execution_count": 35,
     "metadata": {},
     "output_type": "execute_result"
    }
   ],
   "source": [
    "df.gender.value_counts()"
   ]
  },
  {
   "cell_type": "code",
   "execution_count": 36,
   "metadata": {},
   "outputs": [],
   "source": [
    "# There is a lot of unique entries. All are string. Going to categorize...\n",
    "df['gender'] = df['gender'].replace([\n",
    "    'male', 'Male ', 'M', 'm', 'man', 'Cis male',\n",
    "    'Male.', 'Male (cis)', 'Man', 'Sex is male',\n",
    "    'cis male', 'Malr', 'Dude', \"I'm a man why didn't you make this a drop down question. You should of asked sex? And I would of answered yes please. Seriously how much text can this take? \",\n",
    "    'mail', 'M|', 'male ', 'Cis Male', 'Male (trans, FtM)',\n",
    "    'cisdude', 'cis man', 'MALE'], 'Male')\n",
    "df['gender'] = df['gender'].replace([\n",
    "    'female', 'I identify as female.', 'female ',\n",
    "    'Female assigned at birth ', 'F', 'Woman', 'fm', 'f',\n",
    "    'Cis female', 'Transitioned, M2F', 'Female or Multi-Gender Femme',\n",
    "    'Female ', 'woman', 'female/woman', 'Cisgender Female', \n",
    "    'mtf', 'fem', 'Female (props for making this a freeform field, though)',\n",
    "    ' Female', 'Cis-woman', 'AFAB', 'Transgender woman',\n",
    "    'Cis female '], 'Female')\n",
    "df['gender'] = df['gender'].replace([\n",
    "    'Bigender', 'non-binary,', 'Genderfluid (born female)',\n",
    "    'Other/Transfeminine', 'Androgynous', 'male 9:1 female, roughly',\n",
    "    'nb masculine', 'genderqueer', 'Human', 'Genderfluid',\n",
    "    'Enby', 'genderqueer woman', 'Queer', 'Agender', 'Fluid',\n",
    "    'Genderflux demi-girl', 'female-bodied; no feelings about gender',\n",
    "    'non-binary', 'Male/genderqueer', 'Nonbinary', 'Other', 'none of your business',\n",
    "    'Unicorn', 'human', 'Genderqueer'], 'Genderqueer/Other')"
   ]
  },
  {
   "cell_type": "code",
   "execution_count": 38,
   "metadata": {},
   "outputs": [
    {
     "data": {
      "text/plain": [
       "Male                 1058\n",
       "Female                343\n",
       "Genderqueer/Other      29\n",
       "NaN                     3\n",
       "Name: gender, dtype: int64"
      ]
     },
     "execution_count": 38,
     "metadata": {},
     "output_type": "execute_result"
    }
   ],
   "source": [
    "df.gender.value_counts(dropna=False)"
   ]
  },
  {
   "cell_type": "code",
   "execution_count": 41,
   "metadata": {},
   "outputs": [
    {
     "data": {
      "text/plain": [
       "count    1433.000000\n",
       "mean       34.286113\n",
       "std        11.290931\n",
       "min         3.000000\n",
       "25%        28.000000\n",
       "50%        33.000000\n",
       "75%        39.000000\n",
       "max       323.000000\n",
       "Name: age, dtype: float64"
      ]
     },
     "execution_count": 41,
     "metadata": {},
     "output_type": "execute_result"
    }
   ],
   "source": [
    "# Looking at Age\n",
    "\n",
    "df.age.describe()"
   ]
  },
  {
   "cell_type": "code",
   "execution_count": 42,
   "metadata": {},
   "outputs": [
    {
     "name": "stdout",
     "output_type": "stream",
     "text": [
      "      age\n",
      "372    99\n",
      "564   323\n",
      "1117   74\n",
      "     age\n",
      "93    17\n",
      "656    3\n",
      "808   15\n"
     ]
    }
   ],
   "source": [
    "# There are some weird extremes in age. Let's look for outliers and if they are reasonable for our demographic.\n",
    "print(df.loc[df['age'] > 70, ['age']])\n",
    "print(df.loc[df['age'] < 18, ['age']])"
   ]
  },
  {
   "cell_type": "code",
   "execution_count": 54,
   "metadata": {},
   "outputs": [],
   "source": [
    "# Removing outliers\n",
    "df.drop(df.index[[372,564,1117,93,656,808]], inplace=True)"
   ]
  },
  {
   "cell_type": "code",
   "execution_count": 58,
   "metadata": {},
   "outputs": [
    {
     "name": "stdout",
     "output_type": "stream",
     "text": [
      "Empty DataFrame\n",
      "Columns: [age]\n",
      "Index: []\n",
      "Empty DataFrame\n",
      "Columns: [age]\n",
      "Index: []\n"
     ]
    }
   ],
   "source": [
    "print(df.loc[df['age'] > 70, ['age']])\n",
    "print(df.loc[df['age'] < 18, ['age']])"
   ]
  },
  {
   "cell_type": "code",
   "execution_count": 60,
   "metadata": {},
   "outputs": [
    {
     "data": {
      "image/png": "[encoded data removed]",
      "text/plain": [
       "<matplotlib.figure.Figure at 0x1a0a342e10>"
      ]
     },
     "metadata": {},
     "output_type": "display_data"
    }
   ],
   "source": [
    "df.age.plot(kind='density', xlim=(0,100));"
   ]
  },
  {
   "cell_type": "code",
   "execution_count": 62,
   "metadata": {},
   "outputs": [
    {
     "data": {
      "image/png": "[encoded data removed]",
      "text/plain": [
       "<matplotlib.figure.Figure at 0x1a138b0780>"
      ]
     },
     "metadata": {},
     "output_type": "display_data"
    }
   ],
   "source": [
    "df.boxplot(column='age', by='gender');"
   ]
  },
  {
   "cell_type": "code",
   "execution_count": null,
   "metadata": {},
   "outputs": [],
   "source": []
  },
  {
   "cell_type": "code",
   "execution_count": null,
   "metadata": {},
   "outputs": [],
   "source": []
  }
 ],
 "metadata": {
  "kernelspec": {
   "display_name": "Python 3",
   "language": "python",
   "name": "python3"
  },
  "language_info": {
   "codemirror_mode": {
    "name": "ipython",
    "version": 3
   },
   "file_extension": ".py",
   "mimetype": "text/x-python",
   "name": "python",
   "nbconvert_exporter": "python",
   "pygments_lexer": "ipython3",
   "version": "3.6.4"
  }
 },
 "nbformat": 4,
 "nbformat_minor": 2
}
